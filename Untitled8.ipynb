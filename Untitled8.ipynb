{
  "nbformat": 4,
  "nbformat_minor": 0,
  "metadata": {
    "colab": {
      "name": "Untitled8.ipynb",
      "provenance": []
    },
    "kernelspec": {
      "name": "python3",
      "display_name": "Python 3"
    }
  },
  "cells": [
    {
      "cell_type": "code",
      "metadata": {
        "id": "WNuD4aDAzEWn",
        "colab_type": "code",
        "colab": {
          "base_uri": "https://localhost:8080/",
          "height": 1000
        },
        "outputId": "0c7172c5-c82f-4dad-9c83-156850d3bc05"
      },
      "source": [
        "import csv\n",
        "\n",
        "with open('iris.data.txt', 'r') as csvfile:\n",
        "  lines = csv.reader(csvfile)\n",
        "  for row in lines :\n",
        "    print (', '.join(row))\n",
        "\n",
        "import csv\n",
        "\n",
        "import random\n",
        "\n",
        "def loadDataset(filename, split, trainingSet=[] , testSet=[]):\n",
        "  with open(filename, 'r') as csvfile:\n",
        "    lines = csv.reader(csvfile)\n",
        "    dataset = list(lines)\n",
        "    for x in range(len(dataset)-1):\n",
        "\n",
        "        for y in range(4):\n",
        "\n",
        "            dataset[x][y] = float(dataset[x][y])\n",
        "\n",
        "        if random.random() < split:\n",
        "          trainingSet.append(dataset[x])\n",
        "        else:\n",
        "          testSet.append(dataset[x])\n"
      ],
      "execution_count": 18,
      "outputs": [
        {
          "output_type": "stream",
          "text": [
            "5.1, 3.5, 1.4, 0.2, Iris-setosa\n",
            "4.9, 3.0, 1.4, 0.2, Iris-setosa\n",
            "4.7, 3.2, 1.3, 0.2, Iris-setosa\n",
            "4.6, 3.1, 1.5, 0.2, Iris-setosa\n",
            "5.0, 3.6, 1.4, 0.2, Iris-setosa\n",
            "5.4, 3.9, 1.7, 0.4, Iris-setosa\n",
            "4.6, 3.4, 1.4, 0.3, Iris-setosa\n",
            "5.0, 3.4, 1.5, 0.2, Iris-setosa\n",
            "4.4, 2.9, 1.4, 0.2, Iris-setosa\n",
            "4.9, 3.1, 1.5, 0.1, Iris-setosa\n",
            "5.4, 3.7, 1.5, 0.2, Iris-setosa\n",
            "4.8, 3.4, 1.6, 0.2, Iris-setosa\n",
            "4.8, 3.0, 1.4, 0.1, Iris-setosa\n",
            "4.3, 3.0, 1.1, 0.1, Iris-setosa\n",
            "5.8, 4.0, 1.2, 0.2, Iris-setosa\n",
            "5.7, 4.4, 1.5, 0.4, Iris-setosa\n",
            "5.4, 3.9, 1.3, 0.4, Iris-setosa\n",
            "5.1, 3.5, 1.4, 0.3, Iris-setosa\n",
            "5.7, 3.8, 1.7, 0.3, Iris-setosa\n",
            "5.1, 3.8, 1.5, 0.3, Iris-setosa\n",
            "5.4, 3.4, 1.7, 0.2, Iris-setosa\n",
            "5.1, 3.7, 1.5, 0.4, Iris-setosa\n",
            "4.6, 3.6, 1.0, 0.2, Iris-setosa\n",
            "5.1, 3.3, 1.7, 0.5, Iris-setosa\n",
            "4.8, 3.4, 1.9, 0.2, Iris-setosa\n",
            "5.0, 3.0, 1.6, 0.2, Iris-setosa\n",
            "5.0, 3.4, 1.6, 0.4, Iris-setosa\n",
            "5.2, 3.5, 1.5, 0.2, Iris-setosa\n",
            "5.2, 3.4, 1.4, 0.2, Iris-setosa\n",
            "4.7, 3.2, 1.6, 0.2, Iris-setosa\n",
            "4.8, 3.1, 1.6, 0.2, Iris-setosa\n",
            "5.4, 3.4, 1.5, 0.4, Iris-setosa\n",
            "5.2, 4.1, 1.5, 0.1, Iris-setosa\n",
            "5.5, 4.2, 1.4, 0.2, Iris-setosa\n",
            "4.9, 3.1, 1.5, 0.1, Iris-setosa\n",
            "5.0, 3.2, 1.2, 0.2, Iris-setosa\n",
            "5.5, 3.5, 1.3, 0.2, Iris-setosa\n",
            "4.9, 3.1, 1.5, 0.1, Iris-setosa\n",
            "4.4, 3.0, 1.3, 0.2, Iris-setosa\n",
            "5.1, 3.4, 1.5, 0.2, Iris-setosa\n",
            "5.0, 3.5, 1.3, 0.3, Iris-setosa\n",
            "4.5, 2.3, 1.3, 0.3, Iris-setosa\n",
            "4.4, 3.2, 1.3, 0.2, Iris-setosa\n",
            "5.0, 3.5, 1.6, 0.6, Iris-setosa\n",
            "5.1, 3.8, 1.9, 0.4, Iris-setosa\n",
            "4.8, 3.0, 1.4, 0.3, Iris-setosa\n",
            "5.1, 3.8, 1.6, 0.2, Iris-setosa\n",
            "4.6, 3.2, 1.4, 0.2, Iris-setosa\n",
            "5.3, 3.7, 1.5, 0.2, Iris-setosa\n",
            "5.0, 3.3, 1.4, 0.2, Iris-setosa\n",
            "7.0, 3.2, 4.7, 1.4, Iris-versicolor\n",
            "6.4, 3.2, 4.5, 1.5, Iris-versicolor\n",
            "6.9, 3.1, 4.9, 1.5, Iris-versicolor\n",
            "5.5, 2.3, 4.0, 1.3, Iris-versicolor\n",
            "6.5, 2.8, 4.6, 1.5, Iris-versicolor\n",
            "5.7, 2.8, 4.5, 1.3, Iris-versicolor\n",
            "6.3, 3.3, 4.7, 1.6, Iris-versicolor\n",
            "4.9, 2.4, 3.3, 1.0, Iris-versicolor\n",
            "6.6, 2.9, 4.6, 1.3, Iris-versicolor\n",
            "5.2, 2.7, 3.9, 1.4, Iris-versicolor\n",
            "5.0, 2.0, 3.5, 1.0, Iris-versicolor\n",
            "5.9, 3.0, 4.2, 1.5, Iris-versicolor\n",
            "6.0, 2.2, 4.0, 1.0, Iris-versicolor\n",
            "6.1, 2.9, 4.7, 1.4, Iris-versicolor\n",
            "5.6, 2.9, 3.6, 1.3, Iris-versicolor\n",
            "6.7, 3.1, 4.4, 1.4, Iris-versicolor\n",
            "5.6, 3.0, 4.5, 1.5, Iris-versicolor\n",
            "5.8, 2.7, 4.1, 1.0, Iris-versicolor\n",
            "6.2, 2.2, 4.5, 1.5, Iris-versicolor\n",
            "5.6, 2.5, 3.9, 1.1, Iris-versicolor\n",
            "5.9, 3.2, 4.8, 1.8, Iris-versicolor\n",
            "6.1, 2.8, 4.0, 1.3, Iris-versicolor\n",
            "6.3, 2.5, 4.9, 1.5, Iris-versicolor\n",
            "6.1, 2.8, 4.7, 1.2, Iris-versicolor\n",
            "6.4, 2.9, 4.3, 1.3, Iris-versicolor\n",
            "6.6, 3.0, 4.4, 1.4, Iris-versicolor\n",
            "6.8, 2.8, 4.8, 1.4, Iris-versicolor\n",
            "6.7, 3.0, 5.0, 1.7, Iris-versicolor\n",
            "6.0, 2.9, 4.5, 1.5, Iris-versicolor\n",
            "5.7, 2.6, 3.5, 1.0, Iris-versicolor\n",
            "5.5, 2.4, 3.8, 1.1, Iris-versicolor\n",
            "5.5, 2.4, 3.7, 1.0, Iris-versicolor\n",
            "5.8, 2.7, 3.9, 1.2, Iris-versicolor\n",
            "6.0, 2.7, 5.1, 1.6, Iris-versicolor\n",
            "5.4, 3.0, 4.5, 1.5, Iris-versicolor\n",
            "6.0, 3.4, 4.5, 1.6, Iris-versicolor\n",
            "6.7, 3.1, 4.7, 1.5, Iris-versicolor\n",
            "6.3, 2.3, 4.4, 1.3, Iris-versicolor\n",
            "5.6, 3.0, 4.1, 1.3, Iris-versicolor\n",
            "5.5, 2.5, 4.0, 1.3, Iris-versicolor\n",
            "5.5, 2.6, 4.4, 1.2, Iris-versicolor\n",
            "6.1, 3.0, 4.6, 1.4, Iris-versicolor\n",
            "5.8, 2.6, 4.0, 1.2, Iris-versicolor\n",
            "5.0, 2.3, 3.3, 1.0, Iris-versicolor\n",
            "5.6, 2.7, 4.2, 1.3, Iris-versicolor\n",
            "5.7, 3.0, 4.2, 1.2, Iris-versicolor\n",
            "5.7, 2.9, 4.2, 1.3, Iris-versicolor\n",
            "6.2, 2.9, 4.3, 1.3, Iris-versicolor\n",
            "5.1, 2.5, 3.0, 1.1, Iris-versicolor\n",
            "5.7, 2.8, 4.1, 1.3, Iris-versicolor\n",
            "6.3, 3.3, 6.0, 2.5, Iris-virginica\n",
            "5.8, 2.7, 5.1, 1.9, Iris-virginica\n",
            "7.1, 3.0, 5.9, 2.1, Iris-virginica\n",
            "6.3, 2.9, 5.6, 1.8, Iris-virginica\n",
            "6.5, 3.0, 5.8, 2.2, Iris-virginica\n",
            "7.6, 3.0, 6.6, 2.1, Iris-virginica\n",
            "4.9, 2.5, 4.5, 1.7, Iris-virginica\n",
            "7.3, 2.9, 6.3, 1.8, Iris-virginica\n",
            "6.7, 2.5, 5.8, 1.8, Iris-virginica\n",
            "7.2, 3.6, 6.1, 2.5, Iris-virginica\n",
            "6.5, 3.2, 5.1, 2.0, Iris-virginica\n",
            "6.4, 2.7, 5.3, 1.9, Iris-virginica\n",
            "6.8, 3.0, 5.5, 2.1, Iris-virginica\n",
            "5.7, 2.5, 5.0, 2.0, Iris-virginica\n",
            "5.8, 2.8, 5.1, 2.4, Iris-virginica\n",
            "6.4, 3.2, 5.3, 2.3, Iris-virginica\n",
            "6.5, 3.0, 5.5, 1.8, Iris-virginica\n",
            "7.7, 3.8, 6.7, 2.2, Iris-virginica\n",
            "7.7, 2.6, 6.9, 2.3, Iris-virginica\n",
            "6.0, 2.2, 5.0, 1.5, Iris-virginica\n",
            "6.9, 3.2, 5.7, 2.3, Iris-virginica\n",
            "5.6, 2.8, 4.9, 2.0, Iris-virginica\n",
            "7.7, 2.8, 6.7, 2.0, Iris-virginica\n",
            "6.3, 2.7, 4.9, 1.8, Iris-virginica\n",
            "6.7, 3.3, 5.7, 2.1, Iris-virginica\n",
            "7.2, 3.2, 6.0, 1.8, Iris-virginica\n",
            "6.2, 2.8, 4.8, 1.8, Iris-virginica\n",
            "6.1, 3.0, 4.9, 1.8, Iris-virginica\n",
            "6.4, 2.8, 5.6, 2.1, Iris-virginica\n",
            "7.2, 3.0, 5.8, 1.6, Iris-virginica\n",
            "7.4, 2.8, 6.1, 1.9, Iris-virginica\n",
            "7.9, 3.8, 6.4, 2.0, Iris-virginica\n",
            "6.4, 2.8, 5.6, 2.2, Iris-virginica\n",
            "6.3, 2.8, 5.1, 1.5, Iris-virginica\n",
            "6.1, 2.6, 5.6, 1.4, Iris-virginica\n",
            "7.7, 3.0, 6.1, 2.3, Iris-virginica\n",
            "6.3, 3.4, 5.6, 2.4, Iris-virginica\n",
            "6.4, 3.1, 5.5, 1.8, Iris-virginica\n",
            "6.0, 3.0, 4.8, 1.8, Iris-virginica\n",
            "6.9, 3.1, 5.4, 2.1, Iris-virginica\n",
            "6.7, 3.1, 5.6, 2.4, Iris-virginica\n",
            "6.9, 3.1, 5.1, 2.3, Iris-virginica\n",
            "5.8, 2.7, 5.1, 1.9, Iris-virginica\n",
            "6.8, 3.2, 5.9, 2.3, Iris-virginica\n",
            "6.7, 3.3, 5.7, 2.5, Iris-virginica\n",
            "6.7, 3.0, 5.2, 2.3, Iris-virginica\n",
            "6.3, 2.5, 5.0, 1.9, Iris-virginica\n",
            "6.5, 3.0, 5.2, 2.0, Iris-virginica\n",
            "6.2, 3.4, 5.4, 2.3, Iris-virginica\n",
            "5.9, 3.0, 5.1, 1.8, Iris-virginica\n"
          ],
          "name": "stdout"
        }
      ]
    },
    {
      "cell_type": "code",
      "metadata": {
        "id": "vZN-aDfi4bwi",
        "colab_type": "code",
        "colab": {
          "base_uri": "https://localhost:8080/",
          "height": 51
        },
        "outputId": "acefa600-b204-41fe-8cd5-aeb2ac785716"
      },
      "source": [
        "trainingSet=[]\n",
        "\n",
        "testSet=[]\n",
        "\n",
        "loadDataset('iris.data.txt', 0.66, trainingSet, testSet)\n",
        "\n",
        "print ('Train: ' + repr(len(trainingSet)))\n",
        "\n",
        "print ('Test: ' + repr(len(testSet)) )"
      ],
      "execution_count": 20,
      "outputs": [
        {
          "output_type": "stream",
          "text": [
            "Train: 109\n",
            "Test: 40\n"
          ],
          "name": "stdout"
        }
      ]
    },
    {
      "cell_type": "code",
      "metadata": {
        "id": "x93fJILY5D-i",
        "colab_type": "code",
        "colab": {}
      },
      "source": [
        "import math\n",
        "def euclideanDistance(instance1, instance2, length):\n",
        "\tdistance = 0.0\n",
        "\tfor i in range(len(instance1)-1):\n",
        "\t\tdistance += (instance1[i] - instance2[i])**2\n",
        "\treturn math.sqrt(distance)"
      ],
      "execution_count": 30,
      "outputs": []
    },
    {
      "cell_type": "code",
      "metadata": {
        "id": "q2fRAOhL5hDE",
        "colab_type": "code",
        "colab": {
          "base_uri": "https://localhost:8080/",
          "height": 34
        },
        "outputId": "56723347-8646-4c3a-a47d-3dea93dfa399"
      },
      "source": [
        "data1 = [2, 2, 2, 'a']\n",
        "data2 = [4, 4, 4, 'b']\n",
        "distance = euclideanDistance(data1, data2, 3)\n",
        "print ('Distance: '+repr(distance))"
      ],
      "execution_count": 31,
      "outputs": [
        {
          "output_type": "stream",
          "text": [
            "Distance: 3.4641016151377544\n"
          ],
          "name": "stdout"
        }
      ]
    },
    {
      "cell_type": "code",
      "metadata": {
        "id": "daYnklSl6dq0",
        "colab_type": "code",
        "colab": {}
      },
      "source": [
        "import operator\n",
        "\n",
        "def getNeighbors(trainingSet, testInstance, k):\n",
        "  distances = []\n",
        "  length = len(testInstance)-1\n",
        "  for x in range(len(trainingSet)):\n",
        "    dist = euclideanDistance(testInstance, trainingSet[x], length)\n",
        "    distances.append((trainingSet[x], dist))\n",
        "    distances.sort(key=operator.itemgetter(1))\n",
        "    neighbors = []\n",
        "    for x in range(k):\n",
        "      neighbors.append(distances[x][0])\n",
        "    return neighbors\n"
      ],
      "execution_count": 47,
      "outputs": []
    },
    {
      "cell_type": "code",
      "metadata": {
        "id": "JZ_O7H_U6_29",
        "colab_type": "code",
        "colab": {
          "base_uri": "https://localhost:8080/",
          "height": 34
        },
        "outputId": "510ad24b-7a1a-4a12-c6d7-694237e53ebe"
      },
      "source": [
        "trainSet = [[2, 2, 2, 'a'], [4, 4, 4, 'b']]\n",
        "testInstance = [5, 5, 5]\n",
        "k = 1\n",
        "neighbors = getNeighbors(trainSet, testInstance, k)\n",
        "print(neighbors)"
      ],
      "execution_count": 62,
      "outputs": [
        {
          "output_type": "stream",
          "text": [
            "[[2, 2, 2, 'a']]\n"
          ],
          "name": "stdout"
        }
      ]
    },
    {
      "cell_type": "code",
      "metadata": {
        "id": "NoC491jR8e_f",
        "colab_type": "code",
        "colab": {}
      },
      "source": [
        "import operator\n",
        "\n",
        "def getResponse(neighbors):\n",
        "  classVotes = {}\n",
        "  for x in range(len(neighbors)):\n",
        "    response = neighbors[x][-1]\n",
        "    if response in classVotes:\n",
        "      classVotes[response]=classVotes[response]+1\n",
        "    else:\n",
        "       classVotes[response]=1\n",
        "  sortedVotes = sorted(classVotes.items(), key=operator.itemgetter(1), reverse=True)\n",
        "  return sortedVotes[0][0]\n",
        "\n"
      ],
      "execution_count": 54,
      "outputs": []
    },
    {
      "cell_type": "code",
      "metadata": {
        "id": "ZslCx6GG-r-M",
        "colab_type": "code",
        "colab": {
          "base_uri": "https://localhost:8080/",
          "height": 34
        },
        "outputId": "f492fdaa-c069-4a33-e463-cf6e329ab160"
      },
      "source": [
        "neighbors = [[1,1,1,'a'], [2,2,2,'a'], [3,3,3,'b']]\n",
        "response = getResponse(neighbors)\n",
        "print(response)"
      ],
      "execution_count": 56,
      "outputs": [
        {
          "output_type": "stream",
          "text": [
            "a\n"
          ],
          "name": "stdout"
        }
      ]
    },
    {
      "cell_type": "code",
      "metadata": {
        "id": "532Zp7Lz_T3_",
        "colab_type": "code",
        "colab": {}
      },
      "source": [
        "def getAccuracy(testSet, predictions):\n",
        "  correct=0 \n",
        "  for i in range(len(predictions)): \n",
        "    if testSet[i][-1]==predictions[i]:\n",
        "      correct=correct+1\n",
        "  return (correct/float(len(testSet))) * 100.0"
      ],
      "execution_count": 60,
      "outputs": []
    },
    {
      "cell_type": "code",
      "metadata": {
        "id": "jOz1TYeB_vn8",
        "colab_type": "code",
        "colab": {
          "base_uri": "https://localhost:8080/",
          "height": 34
        },
        "outputId": "40b7200e-45d0-4537-dc64-c7a90663ce97"
      },
      "source": [
        "testSet = [[1,1,1,'a'], [2,2,2,'a'], [3,3,3,'b']]\n",
        "predictions = ['a', 'a', 'a']\n",
        "accuracy = getAccuracy(testSet, predictions)\n",
        "print(accuracy)"
      ],
      "execution_count": 61,
      "outputs": [
        {
          "output_type": "stream",
          "text": [
            "66.66666666666666\n"
          ],
          "name": "stdout"
        }
      ]
    },
    {
      "cell_type": "code",
      "metadata": {
        "id": "7zn-gszZBrT4",
        "colab_type": "code",
        "colab": {}
      },
      "source": [
        "def knn(filename,split,k):\n",
        "    # Splitting the dataset \n",
        "    trainingSet=[]\n",
        "    testSet=[]\n",
        "    loadDataset(filename, split,trainingSet,testSet)\n",
        "    # getting the neighbors of the testset\n",
        "    accum_neighbors=[]\n",
        "    for testInstance in testSet:\n",
        "        neighbors=getNeighbors(trainingSet, testInstance[:-1], k)\n",
        "        accum_neighbors.append(neighbors)\n",
        "    # getting the list of predictions \n",
        "    predictions=[]\n",
        "    for neighbors in accum_neighbors:\n",
        "        response=getResponse(neighbors)\n",
        "        predictions.append(response)\n",
        "    # getting the accuracy\n",
        "    accuracy=getAccuracy(testSet, predictions)\n",
        "    return accuracy"
      ],
      "execution_count": 63,
      "outputs": []
    },
    {
      "cell_type": "code",
      "metadata": {
        "id": "oYuV6g58HeId",
        "colab_type": "code",
        "colab": {
          "base_uri": "https://localhost:8080/",
          "height": 34
        },
        "outputId": "4bb0970b-a011-4af2-efa8-feff94f5fee5"
      },
      "source": [
        "\n",
        "from math import *\n",
        "from decimal import Decimal \n",
        "\n",
        "\n",
        "def p_root(value, root): \n",
        "\t\n",
        "\troot_value = 1 / float(root) \n",
        "\treturn round (Decimal(value) **\n",
        "\t\t\tDecimal(root_value), 3) \n",
        "\n",
        "def minkowski_distance(x, y, p_value): \n",
        "\t\n",
        " \n",
        "\treturn (p_root(sum(pow(abs(a-b), p_value) \n",
        "\t  \tfor a, b in zip(x, y)), p_value)) \n",
        " \n",
        "vector1 = [0, 2, 3, 4] \n",
        "vector2 = [2, 4, 3, 7] \n",
        "p = 3\n",
        "print(minkowski_distance(vector1, vector2, p)) \n"
      ],
      "execution_count": 65,
      "outputs": [
        {
          "output_type": "stream",
          "text": [
            "3.503\n"
          ],
          "name": "stdout"
        }
      ]
    }
  ]
}