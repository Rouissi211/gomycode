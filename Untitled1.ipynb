{
  "nbformat": 4,
  "nbformat_minor": 0,
  "metadata": {
    "colab": {
      "name": "Untitled1.ipynb",
      "provenance": []
    },
    "kernelspec": {
      "name": "python3",
      "display_name": "Python 3"
    }
  },
  "cells": [
    {
      "cell_type": "code",
      "metadata": {
        "id": "NEIUQc93zTPl",
        "colab_type": "code",
        "colab": {}
      },
      "source": [
        "l=[]\n",
        "for x in range (2000,3200):\n",
        "  if (x%7==0)and(x%5!=0):\n",
        "    l.append(x)\n",
        "print(l)    \n",
        "    \n",
        "    "
      ],
      "execution_count": null,
      "outputs": []
    },
    {
      "cell_type": "code",
      "metadata": {
        "id": "nVwANbWvzzvZ",
        "colab_type": "code",
        "colab": {}
      },
      "source": [
        "import math\n",
        "num = input(\"Enter a number: \")\n",
        "print(\"The factorial of \", num, \" is : \")\n",
        "print(math.factorial(int(num)))"
      ],
      "execution_count": null,
      "outputs": []
    },
    {
      "cell_type": "code",
      "metadata": {
        "id": "hwuLD0wqz9qL",
        "colab_type": "code",
        "colab": {}
      },
      "source": [
        "x =int (input(\"enter a number \"))\n",
        "dict = {}\n",
        "for i in range (1,x+1) :\n",
        "    dict[i]=i*i\n",
        "print(dict)"
      ],
      "execution_count": null,
      "outputs": []
    },
    {
      "cell_type": "code",
      "metadata": {
        "id": "s3rUbPEd0Gm4",
        "colab_type": "code",
        "colab": {}
      },
      "source": [
        "ch1=\"\"\n",
        "ch2=\"\"\n",
        "ch=input(\"enter a string\")\n",
        "x=len(ch)\n",
        "i=int(input(\"enter a number\"))\n",
        "for a in range (i) :\n",
        "    ch1=ch1+ch[a]\n",
        "for z in range(i+1,x):\n",
        "    ch2=ch2+ch[z]\n",
        "ch3=ch1+ch2\n",
        "print(ch3)\n",
        "\n",
        "\n",
        "\n"
      ],
      "execution_count": null,
      "outputs": []
    },
    {
      "cell_type": "code",
      "metadata": {
        "id": "fx6p5beh0S3D",
        "colab_type": "code",
        "colab": {}
      },
      "source": [
        "import numpy as np\n",
        "\n",
        "\n",
        "arr = np.array([[0,1],[2,3],[4,5]])\n",
        "\n",
        "print(f'Original array elements: {arr}')\n",
        "\n",
        "list1 = arr.tolist()\n",
        "\n",
        "print(f'Array to list:  {list1}')"
      ],
      "execution_count": null,
      "outputs": []
    },
    {
      "cell_type": "code",
      "metadata": {
        "id": "ghGoK0DG0aoX",
        "colab_type": "code",
        "colab": {}
      },
      "source": [
        "import numpy as np\n",
        "\n",
        "A =[0,1,2]\n",
        "B =[2,1,0]\n",
        "\n",
        "\n",
        "data = np.array([A,B])\n",
        "covMatrix = np.cov(data)\n",
        "print (covMatrix)"
      ],
      "execution_count": null,
      "outputs": []
    },
    {
      "cell_type": "code",
      "metadata": {
        "id": "lst_s-fn0m7N",
        "colab_type": "code",
        "colab": {}
      },
      "source": [
        "import math\n",
        "l=[]\n",
        "a=0\n",
        "while a<3 :\n",
        "  x=int(input(\"enter a number \"))\n",
        "  l.append(x)\n",
        "  a=a+1\n",
        "for x in l :\n",
        "  x=(math.sqrt((2*50*x)/30))\n",
        "  print(int(x))"
      ],
      "execution_count": null,
      "outputs": []
    }
  ]
}